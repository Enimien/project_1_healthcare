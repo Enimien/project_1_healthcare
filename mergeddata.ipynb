{
 "cells": [
  {
   "cell_type": "code",
   "execution_count": null,
   "metadata": {},
   "outputs": [],
   "source": [
    "import pandas as pd\n",
    "import matplotlib.pyplot as plt\n",
    "import scipy.stats as st\n",
    "import numpy as np\n",
    "import pathlib as Path\n"
   ]
  },
  {
   "cell_type": "code",
   "execution_count": null,
   "metadata": {},
   "outputs": [],
   "source": [
    "#full_fitness_df = pd.read_csv(r\"C:\\Users\\swamp\\Desktop\\HomeWork\\project_1_healthcare\\Fitabase Data 4.12.16-5.12.16\\dailyActivity_merged.csv\")\n",
    "full_fitness_df = \"Fitabase Data 4.12.16-5.12.16\\dailyActivity_merged.csv\"\n",
    "full_fitness_df = pd.read_csv(full_fitness_df)\n",
    "basic_fyd = \"yeardata\\combined_file.csv\"\n",
    "basic_fyd = pd.read_csv(basic_fyd)"
   ]
  },
  {
   "cell_type": "code",
   "execution_count": null,
   "metadata": {},
   "outputs": [],
   "source": [
    "basic_fyd[\"lastSyncTime\"] = basic_fyd[\"lastSyncTime_x\"] + basic_fyd[\"lastSyncTime_y\"]\n",
    "basic_fyd = basic_fyd.drop(columns=[\"lastSyncTime_x\", \"lastSyncTime_y\"])\n",
    "lastsynctime = basic_fyd.pop(\"lastSyncTime\")\n",
    "basic_fyd.insert(1, \"lastSyncTime\", lastsynctime)\n",
    "\n",
    "basic_fyd[\"start\"] = basic_fyd[\"start_x\"]\n",
    "basic_fyd = basic_fyd.drop(columns=[\"start_x\", \"start_y\"])\n",
    "fystart = basic_fyd.pop(\"start\")\n",
    "basic_fyd.insert(2, \"start\", fystart)\n",
    "\n",
    "basic_fyd[\"distance\"] = basic_fyd[\"distance_x\"] + basic_fyd[\"distance_y\"]\n",
    "basic_fyd = basic_fyd.drop(columns=[\"distance_x\", \"distance_y\"])\n",
    "fydistance = basic_fyd.pop(\"distance\")\n",
    "basic_fyd.insert(3, \"distance\", fydistance)\n",
    "\n",
    "basic_fyd[\"calories\"] = basic_fyd[\"calories_x\"] + basic_fyd[\"calories_y\"]\n",
    "basic_fyd = basic_fyd.drop(columns=[\"calories_x\", \"calories_y\"])\n",
    "fycalories = basic_fyd.pop(\"calories\")\n",
    "basic_fyd.insert(4, \"calories\", fycalories)\n",
    "\n",
    "\n",
    "basic_fyd = basic_fyd.drop(columns=[\"time_x\", \"time_y\"])\n",
    "\n",
    "\n",
    "basic_fyd[\"stop\"] = basic_fyd[\"stop_x\"]\n",
    "basic_fyd = basic_fyd.drop(columns=[\"stop_x\", \"stop_y\"])\n",
    "fystop = basic_fyd.pop(\"stop\")\n",
    "basic_fyd.insert(6, \"stop\", fystop)\n",
    "\n",
    "basic_fyd[\"steps\"] = basic_fyd[\"steps_x\"] + basic_fyd[\"steps_y\"]\n",
    "basic_fyd = basic_fyd.drop(columns=[\"steps_x\", \"steps_y\"])\n",
    "fysteps = basic_fyd.pop(\"steps\")\n",
    "basic_fyd.insert(7, \"steps\", fysteps)\n",
    "\n",
    "basic_fyd.head()"
   ]
  },
  {
   "cell_type": "code",
   "execution_count": null,
   "metadata": {},
   "outputs": [],
   "source": []
  },
  {
   "cell_type": "code",
   "execution_count": null,
   "metadata": {},
   "outputs": [],
   "source": []
  }
 ],
 "metadata": {
  "kernelspec": {
   "display_name": "base",
   "language": "python",
   "name": "python3"
  },
  "language_info": {
   "codemirror_mode": {
    "name": "ipython",
    "version": 3
   },
   "file_extension": ".py",
   "mimetype": "text/x-python",
   "name": "python",
   "nbconvert_exporter": "python",
   "pygments_lexer": "ipython3",
   "version": "3.11.7"
  }
 },
 "nbformat": 4,
 "nbformat_minor": 2
}
